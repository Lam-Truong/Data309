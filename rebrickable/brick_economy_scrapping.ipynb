{
 "cells": [
  {
   "cell_type": "code",
   "execution_count": 1,
   "metadata": {},
   "outputs": [],
   "source": [
    "# Import web scraping libraries\n",
    "from bs4 import BeautifulSoup\n",
    "import requests\n",
    "import lxml\n",
    "\n",
    "# Import data manipulation libraries\n",
    "import pandas as pd\n",
    "import numpy as np\n",
    "\n",
    "# Import visualization libraries\n",
    "import matplotlib.pyplot as plt\n",
    "import seaborn as sns\n",
    "\n",
    "# Plot settings\n",
    "sns.set_theme(style = 'whitegrid', palette = 'crest_r', context='notebook')"
   ]
  },
  {
   "cell_type": "code",
   "execution_count": 13,
   "metadata": {},
   "outputs": [],
   "source": [
    "url = 'https://www.brickeconomy.com/set/10271-1/lego-fiat-500'\n",
    "response = requests.get(url)"
   ]
  },
  {
   "cell_type": "code",
   "execution_count": 16,
   "metadata": {},
   "outputs": [
    {
     "data": {
      "text/plain": [
       "403"
      ]
     },
     "execution_count": 16,
     "metadata": {},
     "output_type": "execute_result"
    }
   ],
   "source": [
    "response.status_code"
   ]
  },
  {
   "cell_type": "markdown",
   "metadata": {},
   "source": [
    "Got rejected lol !"
   ]
  },
  {
   "cell_type": "code",
   "execution_count": 14,
   "metadata": {},
   "outputs": [
    {
     "data": {
      "text/plain": [
       "<!DOCTYPE html>\n",
       "<html lang=\"en-US\"><head><title>Just a moment...</title><meta content=\"text/html; charset=utf-8\" http-equiv=\"Content-Type\"/><meta content=\"IE=Edge\" http-equiv=\"X-UA-Compatible\"/><meta content=\"noindex,nofollow\" name=\"robots\"/><meta content=\"width=device-width,initial-scale=1\" name=\"viewport\"/><style>*{box-sizing:border-box;margin:0;padding:0}html{line-height:1.15;-webkit-text-size-adjust:100%;color:#313131}button,html{font-family:system-ui,-apple-system,BlinkMacSystemFont,Segoe UI,Roboto,Helvetica Neue,Arial,Noto Sans,sans-serif,Apple Color Emoji,Segoe UI Emoji,Segoe UI Symbol,Noto Color Emoji}@media (prefers-color-scheme:dark){body{background-color:#222;color:#d9d9d9}body a{color:#fff}body a:hover{color:#ee730a;text-decoration:underline}body .lds-ring div{border-color:#999 transparent transparent}body .font-red{color:#b20f03}body .pow-button{background-color:#4693ff;color:#1d1d1d}body #challenge-success-text{background-image:url(data:image/svg+xml;base64,PHN2ZyB4bWxucz0iaHR0cDovL3d3dy53My5vcmcvMjAwMC9zdmciIHdpZHRoPSIzMiIgaGVpZ2h0PSIzMiIgZmlsbD0ibm9uZSIgdmlld0JveD0iMCAwIDI2IDI2Ij48cGF0aCBmaWxsPSIjZDlkOWQ5IiBkPSJNMTMgMGExMyAxMyAwIDEgMCAwIDI2IDEzIDEzIDAgMCAwIDAtMjZtMCAyNGExMSAxMSAwIDEgMSAwLTIyIDExIDExIDAgMCAxIDAgMjIiLz48cGF0aCBmaWxsPSIjZDlkOWQ5IiBkPSJtMTAuOTU1IDE2LjA1NS0zLjk1LTQuMTI1LTEuNDQ1IDEuMzg1IDUuMzcgNS42MSA5LjQ5NS05LjYtMS40Mi0xLjQwNXoiLz48L3N2Zz4=)}body #challenge-error-text{background-image:url(data:image/svg+xml;base64,PHN2ZyB4bWxucz0iaHR0cDovL3d3dy53My5vcmcvMjAwMC9zdmciIHdpZHRoPSIzMiIgaGVpZ2h0PSIzMiIgZmlsbD0ibm9uZSI+PHBhdGggZmlsbD0iI0IyMEYwMyIgZD0iTTE2IDNhMTMgMTMgMCAxIDAgMTMgMTNBMTMuMDE1IDEzLjAxNSAwIDAgMCAxNiAzbTAgMjRhMTEgMTEgMCAxIDEgMTEtMTEgMTEuMDEgMTEuMDEgMCAwIDEtMTEgMTEiLz48cGF0aCBmaWxsPSIjQjIwRjAzIiBkPSJNMTcuMDM4IDE4LjYxNUgxNC44N0wxNC41NjMgOS41aDIuNzgzem0tMS4wODQgMS40MjdxLjY2IDAgMS4wNTcuMzg4LjQwNy4zODkuNDA3Ljk5NCAwIC41OTYtLjQwNy45ODQtLjM5Ny4zOS0xLjA1Ny4zODktLjY1IDAtMS4wNTYtLjM4OS0uMzk4LS4zODktLjM5OC0uOTg0IDAtLjU5Ny4zOTgtLjk4NS40MDYtLjM5NyAxLjA1Ni0uMzk3Ii8+PC9zdmc+)}}body{display:flex;flex-direction:column;min-height:100vh}body.no-js .loading-spinner{visibility:hidden}body.no-js .challenge-running{display:none}body.dark{background-color:#222;color:#d9d9d9}body.dark a{color:#fff}body.dark a:hover{color:#ee730a;text-decoration:underline}body.dark .lds-ring div{border-color:#999 transparent transparent}body.dark .font-red{color:#b20f03}body.dark .pow-button{background-color:#4693ff;color:#1d1d1d}body.dark #challenge-success-text{background-image:url(data:image/svg+xml;base64,PHN2ZyB4bWxucz0iaHR0cDovL3d3dy53My5vcmcvMjAwMC9zdmciIHdpZHRoPSIzMiIgaGVpZ2h0PSIzMiIgZmlsbD0ibm9uZSIgdmlld0JveD0iMCAwIDI2IDI2Ij48cGF0aCBmaWxsPSIjZDlkOWQ5IiBkPSJNMTMgMGExMyAxMyAwIDEgMCAwIDI2IDEzIDEzIDAgMCAwIDAtMjZtMCAyNGExMSAxMSAwIDEgMSAwLTIyIDExIDExIDAgMCAxIDAgMjIiLz48cGF0aCBmaWxsPSIjZDlkOWQ5IiBkPSJtMTAuOTU1IDE2LjA1NS0zLjk1LTQuMTI1LTEuNDQ1IDEuMzg1IDUuMzcgNS42MSA5LjQ5NS05LjYtMS40Mi0xLjQwNXoiLz48L3N2Zz4=)}body.dark #challenge-error-text{background-image:url(data:image/svg+xml;base64,PHN2ZyB4bWxucz0iaHR0cDovL3d3dy53My5vcmcvMjAwMC9zdmciIHdpZHRoPSIzMiIgaGVpZ2h0PSIzMiIgZmlsbD0ibm9uZSI+PHBhdGggZmlsbD0iI0IyMEYwMyIgZD0iTTE2IDNhMTMgMTMgMCAxIDAgMTMgMTNBMTMuMDE1IDEzLjAxNSAwIDAgMCAxNiAzbTAgMjRhMTEgMTEgMCAxIDEgMTEtMTEgMTEuMDEgMTEuMDEgMCAwIDEtMTEgMTEiLz48cGF0aCBmaWxsPSIjQjIwRjAzIiBkPSJNMTcuMDM4IDE4LjYxNUgxNC44N0wxNC41NjMgOS41aDIuNzgzem0tMS4wODQgMS40MjdxLjY2IDAgMS4wNTcuMzg4LjQwNy4zODkuNDA3Ljk5NCAwIC41OTYtLjQwNy45ODQtLjM5Ny4zOS0xLjA1Ny4zODktLjY1IDAtMS4wNTYtLjM4OS0uMzk4LS4zODktLjM5OC0uOTg0IDAtLjU5Ny4zOTgtLjk4NS40MDYtLjM5NyAxLjA1Ni0uMzk3Ii8+PC9zdmc+)}body.light{background-color:transparent;color:#313131}body.light a{color:#0051c3}body.light a:hover{color:#ee730a;text-decoration:underline}body.light .lds-ring div{border-color:#595959 transparent transparent}body.light .font-red{color:#fc574a}body.light .pow-button{background-color:#003681;border-color:#003681;color:#fff}body.light #challenge-success-text{background-image:url(data:image/svg+xml;base64,PHN2ZyB4bWxucz0iaHR0cDovL3d3dy53My5vcmcvMjAwMC9zdmciIHdpZHRoPSIzMiIgaGVpZ2h0PSIzMiIgZmlsbD0ibm9uZSIgdmlld0JveD0iMCAwIDI2IDI2Ij48cGF0aCBmaWxsPSIjMzEzMTMxIiBkPSJNMTMgMGExMyAxMyAwIDEgMCAwIDI2IDEzIDEzIDAgMCAwIDAtMjZtMCAyNGExMSAxMSAwIDEgMSAwLTIyIDExIDExIDAgMCAxIDAgMjIiLz48cGF0aCBmaWxsPSIjMzEzMTMxIiBkPSJtMTAuOTU1IDE2LjA1NS0zLjk1LTQuMTI1LTEuNDQ1IDEuMzg1IDUuMzcgNS42MSA5LjQ5NS05LjYtMS40Mi0xLjQwNXoiLz48L3N2Zz4=)}body.light #challenge-error-text{background-image:url(data:image/svg+xml;base64,PHN2ZyB4bWxucz0iaHR0cDovL3d3dy53My5vcmcvMjAwMC9zdmciIHdpZHRoPSIzMiIgaGVpZ2h0PSIzMiIgZmlsbD0ibm9uZSI+PHBhdGggZmlsbD0iI2ZjNTc0YSIgZD0iTTE2IDNhMTMgMTMgMCAxIDAgMTMgMTNBMTMuMDE1IDEzLjAxNSAwIDAgMCAxNiAzbTAgMjRhMTEgMTEgMCAxIDEgMTEtMTEgMTEuMDEgMTEuMDEgMCAwIDEtMTEgMTEiLz48cGF0aCBmaWxsPSIjZmM1NzRhIiBkPSJNMTcuMDM4IDE4LjYxNUgxNC44N0wxNC41NjMgOS41aDIuNzgzem0tMS4wODQgMS40MjdxLjY2IDAgMS4wNTcuMzg4LjQwNy4zODkuNDA3Ljk5NCAwIC41OTYtLjQwNy45ODQtLjM5Ny4zOS0xLjA1Ny4zODktLjY1IDAtMS4wNTYtLjM4OS0uMzk4LS4zODktLjM5OC0uOTg0IDAtLjU5Ny4zOTgtLjk4NS40MDYtLjM5NyAxLjA1Ni0uMzk3Ii8+PC9zdmc+)}a{background-color:transparent;color:#0051c3;text-decoration:none;transition:color .15s ease}a:hover{color:#ee730a;text-decoration:underline}.main-content{margin:8rem auto;max-width:60rem;width:100%}.heading-favicon{height:2rem;margin-right:.5rem;width:2rem}@media (width <= 720px){.main-content{margin-top:4rem}.heading-favicon{height:1.5rem;width:1.5rem}}.footer,.main-content{padding-left:1.5rem;padding-right:1.5rem}.main-wrapper{align-items:center;display:flex;flex:1;flex-direction:column}.font-red{color:#b20f03}.spacer{margin:2rem 0}.h1{font-size:2.5rem;font-weight:500;line-height:3.75rem}.h2{font-weight:500}.core-msg,.h2{font-size:1.5rem;line-height:2.25rem}.body-text,.core-msg{font-weight:400}.body-text{font-size:1rem;line-height:1.25rem}@media (width <= 720px){.h1{font-size:1.5rem;line-height:1.75rem}.h2{font-size:1.25rem}.core-msg,.h2{line-height:1.5rem}.core-msg{font-size:1rem}}#challenge-error-text{background-image:url(data:image/svg+xml;base64,PHN2ZyB4bWxucz0iaHR0cDovL3d3dy53My5vcmcvMjAwMC9zdmciIHdpZHRoPSIzMiIgaGVpZ2h0PSIzMiIgZmlsbD0ibm9uZSI+PHBhdGggZmlsbD0iI2ZjNTc0YSIgZD0iTTE2IDNhMTMgMTMgMCAxIDAgMTMgMTNBMTMuMDE1IDEzLjAxNSAwIDAgMCAxNiAzbTAgMjRhMTEgMTEgMCAxIDEgMTEtMTEgMTEuMDEgMTEuMDEgMCAwIDEtMTEgMTEiLz48cGF0aCBmaWxsPSIjZmM1NzRhIiBkPSJNMTcuMDM4IDE4LjYxNUgxNC44N0wxNC41NjMgOS41aDIuNzgzem0tMS4wODQgMS40MjdxLjY2IDAgMS4wNTcuMzg4LjQwNy4zODkuNDA3Ljk5NCAwIC41OTYtLjQwNy45ODQtLjM5Ny4zOS0xLjA1Ny4zODktLjY1IDAtMS4wNTYtLjM4OS0uMzk4LS4zODktLjM5OC0uOTg0IDAtLjU5Ny4zOTgtLjk4NS40MDYtLjM5NyAxLjA1Ni0uMzk3Ii8+PC9zdmc+);padding-left:34px}#challenge-error-text,#challenge-success-text{background-repeat:no-repeat;background-size:contain}#challenge-success-text{background-image:url(data:image/svg+xml;base64,PHN2ZyB4bWxucz0iaHR0cDovL3d3dy53My5vcmcvMjAwMC9zdmciIHdpZHRoPSIzMiIgaGVpZ2h0PSIzMiIgZmlsbD0ibm9uZSIgdmlld0JveD0iMCAwIDI2IDI2Ij48cGF0aCBmaWxsPSIjMzEzMTMxIiBkPSJNMTMgMGExMyAxMyAwIDEgMCAwIDI2IDEzIDEzIDAgMCAwIDAtMjZtMCAyNGExMSAxMSAwIDEgMSAwLTIyIDExIDExIDAgMCAxIDAgMjIiLz48cGF0aCBmaWxsPSIjMzEzMTMxIiBkPSJtMTAuOTU1IDE2LjA1NS0zLjk1LTQuMTI1LTEuNDQ1IDEuMzg1IDUuMzcgNS42MSA5LjQ5NS05LjYtMS40Mi0xLjQwNXoiLz48L3N2Zz4=);padding-left:42px}.text-center{text-align:center}.pow-button{background-color:#0051c3;border:.063rem solid #0051c3;border-radius:.313rem;color:#fff;font-size:.875rem;line-height:1.313rem;margin:2rem 0;padding:.375rem 1rem;transition-duration:.2s;transition-property:background-color,border-color,color;transition-timing-function:ease}.pow-button:hover{background-color:#003681;border-color:#003681;color:#fff;cursor:pointer}.footer{font-size:.75rem;line-height:1.125rem;margin:0 auto;max-width:60rem;width:100%}.footer-inner{border-top:1px solid #d9d9d9;padding-bottom:1rem;padding-top:1rem}.clearfix:after{clear:both;content:\"\";display:table}.clearfix .column{float:left;padding-right:1.5rem;width:50%}.diagnostic-wrapper{margin-bottom:.5rem}.footer .ray-id{text-align:center}.footer .ray-id code{font-family:monaco,courier,monospace}.core-msg,.zone-name-title{overflow-wrap:break-word}@media (width <= 720px){.diagnostic-wrapper{display:flex;flex-wrap:wrap;justify-content:center}.clearfix:after{clear:none;content:none;display:initial;text-align:center}.column{padding-bottom:2rem}.clearfix .column{float:none;padding:0;width:auto;word-break:keep-all}.zone-name-title{margin-bottom:1rem}}.loading-spinner{height:76.391px}.lds-ring{display:inline-block;position:relative}.lds-ring,.lds-ring div{height:1.875rem;width:1.875rem}.lds-ring div{animation:lds-ring 1.2s cubic-bezier(.5,0,.5,1) infinite;border:.3rem solid transparent;border-radius:50%;border-top-color:#313131;box-sizing:border-box;display:block;position:absolute}.lds-ring div:first-child{animation-delay:-.45s}.lds-ring div:nth-child(2){animation-delay:-.3s}.lds-ring div:nth-child(3){animation-delay:-.15s}@keyframes lds-ring{0%{transform:rotate(0)}to{transform:rotate(1turn)}}@media screen and (-ms-high-contrast:active),screen and (-ms-high-contrast:none){.main-wrapper,body{display:block}}.rtl .heading-favicon{margin-left:.5rem;margin-right:0}.rtl #challenge-success-text{background-position:100%;padding-left:0;padding-right:42px}.rtl #challenge-error-text{background-position:100%;padding-left:0;padding-right:34px}</style><meta content=\"390\" http-equiv=\"refresh\"/></head><body class=\"no-js\"><div class=\"main-wrapper\" role=\"main\"><div class=\"main-content\"><noscript><div id=\"challenge-error-title\"><div class=\"h2\"><span id=\"challenge-error-text\">Enable JavaScript and cookies to continue</span></div></div></noscript></div></div><script>(function(){window._cf_chl_opt={cvId: '3',cZone: \"www.brickeconomy.com\",cType: 'managed',cNounce: '24478',cRay: '8aa8ef6e884aa870',cHash: '5677e6ffd054fc2',cUPMDTk: \"\\/set\\/10271-1\\/lego-fiat-500?__cf_chl_tk=emnOu2MK6GA.KsyOAtxfFkoI7vs0wZECzdmadjEvuYg-1722212344-0.0.1.1-3860\",cFPWv: 'g',cTTimeMs: '1000',cMTimeMs: '390000',cTplV: 5,cTplB: 'cf',cK: \"\",fa: \"\\/set\\/10271-1\\/lego-fiat-500?__cf_chl_f_tk=emnOu2MK6GA.KsyOAtxfFkoI7vs0wZECzdmadjEvuYg-1722212344-0.0.1.1-3860\",md: \"ecT1WTeKqPp2M.z5ftvzh6z1.EAKesZMTlWYrVqF_44-1722212344-1.1.1.1-kbhQQvaAakDcdcj71htNNj9Rrl51h64STrBjwkTl0hXyQCzxPIOl3yd7TNP9fVSSHZBS48HDwcqA3ifn6Sc6x1x0F.j8mFy9_UQ8TfbbwEBJg2SnfNAyiPDcd48pG0BjhxsB1.gY5NrG32aY3ccUwFm9SLusVVmYeZSrxSK9Gc8YaZGbcnPtSkf2tGUba2IN9nv9.7NEZ.nasn1_jx.3KyMdNYcjcmhqVb9kdqVqbFVyDV6G.dyW2WBWuLEB6OPJEMRAfiXniC8Oe2uxfiUpaWbYGEV07dK_ppUsbELkm3iXh06R0tkOtmqx27vDujpfMYVHVaM_blGpZZXHh5ZuW08M_T_bFrw8AkMGAdcc_fVZAVW_udXie25UvNzVLt1g1xXT6RnJlARyUrk7g1UV9L4tnYfZZOKB1CYyi8sv9k19sTlukTocpamSGE4aR0h75.6GqUKfkubLNRQ1GRfur.pVpNSVCjtW1EbmgxoPp8HS9FUY5pHUYTDjfzzRBXTkFOROLPbp.R1cOGnMpGwoXjC.POBUwNK9XHXVJCik9pe_.U262ssLHlGcGinhvSbjKvQNy8j.2KsDuIhrFwz91AKZDYyEyGJKKwRZ3tVExygAEgpdyWw.48ndD1tH0OpAXkyiiUWHq5Y9kgBxbsNiIEi5oULpmMjmPVdmoWH.hFAYjo181yLJ.YOBmQZcFP5_WdfnYJ7OnqG06TwLIexagFKif7suu2_k13W9m5erfk1HLlvz_987GfLFZ6NdoLWGFPotwFIj7nJSnhweiKeFpKbFzvdnREcu6ftIO74iSdcHs6ZUAbqM6YyQUjN1e4G0jV2WmAPgvluYD534oaUgWSSC63Z0.fhXQfdoUHXMVfnPLI7gb0SLsZsg9jlSPven_t1paiEWqjJYpnP55oPZJvzm.71RLDO0JjKNuCmaqCNF8TXGKBE2AggnFQxf.GUAcqlzQKBLk63nlHYyDKi41T7isEvD1oEm0j7wpLgPUOnzDWW6QiRtVai3beSArkvaGD4LMfytC3LEKnuwhvrYxkxrFnHNdpQ9s2JVoFZ3h6z.4hPasLAvAa_HDsDCKDnyf16z2c3scJCL_XFIJ8ST30HmavkW7kCVxM3hssnEiAplugVzjOdoP8xDdqGKGY5Q2GrSarv6eU8c6OfHSCrA51xkB7xOZX07sO6oX_LZYrMpVEiTFgYmv2fSYk9.dFWtenpFNasR_MNb0DaJ_Pi9YHqdQ0pxnkNa_IZ3I0KzxdN1KZ0CQI3VNNJ0fHyK59tboeWw4fMS_xam1LFblFOO2HrCYrDfQMT.NBCNbfHEfdIQ0MXpLqipHBBpvOisOojfY6DyQdLN0Y5g_ztmMlhdSG4Zg69k4KRgjfSH7LByjGU7vS65rj7GoyBY0vBj3tk8eWKokYTlPnIUA6QNPyolkF2qY2ldX0kP0ir3ykDmJjWJvgzyuM7H9vboU1yHJ4HDW9YWg_0kZGSgAPvAByH3JS0esYshb95jDbwE75lqL.M\",mdrd: \"CiITX.ydJYIJh4vovGCk0luMPgeZAtOF6YxztYFkEtk-1722212344-1.1.1.1-zexbuGR2wTJd8kUTf7ELRAzfW7e_O4n26fRFjE6EQ5XT3k1Rqq9UZ5PRbGGO8Ql875rWI.Zn.bKkvWgw8XjtWkEQC3pf1LCOXCtD0iRXKZSqptplfE69YWo5f9G3OL0UIdpt9_3dqofXo4Bi6AvsTMEiHwykYOKTBXwtQpCstqasSv9nb9w.LxBrgXtcSFulX97TfnnInjgiXskg4nuuwidm0C3_tf6II1fXGbzfKq8wMmHQVn1ioYCIT4EluSbcqLZPBTQ52DpCWhhhiRIAgrbW1qbijVmCtnD3U56s1xHMGq218oluvNBIFUK9Np0CUxsJhl493GzsVOFe.SkWtXPRR9I6BqBMHpFCEsr23JnYejHkZi1l9EFKYYSgLm0gfIgjziq6dDTUWCPGm3uo7POuflUJ465rbW3rqvHMeJDShk11WUBZrPPsNdxGRhJtpfr0WLJLj8aZlaqG5gmnU1HMIOIP_2S9ZklNuBwp1_Nb02S2sRHrilRPg.nqqMRkkNJGuONMD6WKgVo3MYvR9zLLoGxGK4wfzjio6scgoI2MYcofPSgy8o6T2Taar3x_kbOLV4Hxa0Tnr_D0S_N5rYkqMcffJmElLICqO9YF2mO0MQkD9aMylTJYRLSbBzoM5LuqZnx5QUdyYyq11QwArn4OmJ7QD6Tnyfv1cw1l4Vct.nafmNPPHU5YlOiUZauLvUP0Qfr4RNBhcDBhkw82t4MKsq6izxoJPYb2otSBHpDBX2ZrYUJ2M7.vLDTmQQ8bvX9VzvynzYvVRq7Sgx6V.F0QbzHEq3IkcVl6qQ911UaB5ZpHd1jOfbHaDXL2Go_LPLqwPfwukyi8C4C_cbVlQq2mHE87SRhh20SZ5u26YP874t2lE_UASJMTAWNla1meNZRCQYouhctN1g_BZTBggoytJKdWpbEWfd0qP9OiDPfJfYddIGEvND7VQvjCro376hijvwewwcn6w6wYhl_mvMHyOjMtkjICK8Zif26u7G1jhTFAlgQPRDKYAAe2JyX3tZxeDx_IZdoOh3O0DYFh4F9N63dqCKSiwhZUZ8oQEqc4Q2WwGd_L1c5QGNJxOPJhUz5cU6rw0b86oh2nOYg.3AC5Fs.FzSfe4qUJzvjREB0oEDVD3GXcppcSr8CK.jeNk9BEon1z27Kv2hYYb3c2RYSKwFxyvjK7L92Y.RB6Namncj6eU.uRqnx_eOfoqDddgFasLUpu0JZrhF7TH1fymddyTqlSN.TQEId_0KvUVkc013ydmPVjPS.By4zCh2IJ8M8jVEQL.bPHdE.bod0Y172WtM8jw35GtyvbrFCCXpf8QLK.ziPkNt8CkCej1ALe.Y5k9fV9VpidjcT64.WR.ZSHae2HiBiw0WskjQbaCAm7D8DSAu_1bUjZb6dYXk8h1WhHiGI2oPCBo7_t9oPOJv6je1XJr_wOXl94NWKKiQpau4CJ2K_rrFAia5HWSiVVSpQJmxjmkiiTRVLMh1Z5zIaN6jCN.geZL.9uyVKhkO511_2bptk9zGOrUwzdrwW.EeWgCL5qNb2eP7hxpcbdWqqXbPacWT_i2I_Y9sIEfMhvNqvO1whHNs0biJZcfdNGHODScCqWZovMVAGX1PP5b8eWnUIRKTXx_LDXEAWAVz.AeAGHzbaIuc9wsZyQQpw73g3peo5aCv3n9HxUsCoBXqmyDY2VHcFzcuXCIsTKMRiTF5urK0oq7sgUkBiuFa85Fy3gjUAaEIcFVBrDShhLs8JjQ78Qjva6xZ209bQAstjhndFxaF0tSZ5vd1NbhbdWpTwrIsEikZd574ehdfS0S5cbYFAjHOin77aOZqMLRh5_xYhAT9pgZs32xIpKwW1_JIvrR2W6B4UhaS5ylKrPXjeMsHlZ4m3eUR8ax1rXjiQ8HXv_jUdfVKo8ZUV2OLg8cQaNbeu3mdSthtgSSHtxErQm6544wNKvg503kZfuawMUlNs8hP8EVg9dfFJwufpKRp5Id.451yIB9SsXChZUQWQopNdNOIORdSIuqvYhQ5Hm5txy0wmMEg8tEoRiE4DabPWOJV3H9bVoJ.Kmn.GY46TdEbN17vF5Y_1Hm0_zmneGRv4VV.dSB9L.aRa_6P0y_mxWqSxtqwlgjR3pArW_SG7dsEIbiBsSFkXHBWK7byR4ddcuGTFvP6j.0DmCpcYl1_mrUukhpE77SC2V00UBsv6t4OfrbM4EMDbn0uTwkYs\",cRq: {ru: 'aHR0cHM6Ly93d3cuYnJpY2tlY29ub215LmNvbS9zZXQvMTAyNzEtMS9sZWdvLWZpYXQtNTAw',ra: 'cHl0aG9uLXJlcXVlc3RzLzIuMzEuMA==',rm: 'R0VU',d: 'oDy97Ly6d6HML8DTvshOB9ll+2Kx7DKl7cnsiaat0VN5qztjh7HZfmRzkOLDT31h/g4Vr+Q8Crhn6HYdmOZ39SGTyKfuMvv3OOxQaWFyCjlqspa+t/td2mf6blDNAbGs4bPa+mb5EjJv8IyZMLc1i8LNDc2YdBUCvODAqd0WbQG7pXgDbVqBzLDgw15/tSKjEyQeYXFAYMJC5253CC1V3M0k1PNI8zEwzUeU651gdPylFUpaAJDmTKCnmpTvHeveCJHfzfZ+kim/pbSCWbya0I+LolkVAugQejZC9rvqnzXKAACtrbtnytXzGueRM7o8iu8ZUqObC2SQnrhBRxuFbaKLLK+UCVkCP8zpseIGhzGfgbJoAoI0h3+SWUolgiQQVfoX3eiZjioHUZpT9PKpdIpnFk+tqgKYfR+Kqeh48YbxoGu8TdFTrqgoUJuYVEHV+IDKIh+nSDS0hzfs9teencbGvqE9HiRe+UmxnytAhj3/izfEOyEg7I3mzjZZWuqbPAltDG6PY2iT6ijVZ9vIsQ==',t: 'MTcyMjIxMjM0NC4wMDAwMDA=',cT: Math.floor(Date.now() / 1000),m: 'Hly7+mP8pDmlMKguAMn0XN0CzfMrXKKGabgwx6zVREc=',i1: 'X8b05XGfbdLq90plV5HdGA==',i2: 'sZL7qOjy4xYiWcsJUjf5ig==',zh: 'txlU4ePMWqjLLl/dEwIR9LZw5tHDQYXlO2qQMxxPR2U=',uh: 'YE9XOpG5TeHmhA1zfs5mxC8CrRZzq2a/+r+OU7dliYQ=',hh: 'Ygf23rCgmFCWZQovUBmTHRwDDfpjNfVlr+d27dZlkjI=',}};var cpo = document.createElement('script');cpo.src = '/cdn-cgi/challenge-platform/h/g/orchestrate/chl_page/v1?ray=8aa8ef6e884aa870';window._cf_chl_opt.cOgUHash = location.hash === '' && location.href.indexOf('#') !== -1 ? '#' : location.hash;window._cf_chl_opt.cOgUQuery = location.search === '' && location.href.slice(0, location.href.length - window._cf_chl_opt.cOgUHash.length).indexOf('?') !== -1 ? '?' : location.search;if (window.history && window.history.replaceState) {var ogU = location.pathname + window._cf_chl_opt.cOgUQuery + window._cf_chl_opt.cOgUHash;history.replaceState(null, null, \"\\/set\\/10271-1\\/lego-fiat-500?__cf_chl_rt_tk=emnOu2MK6GA.KsyOAtxfFkoI7vs0wZECzdmadjEvuYg-1722212344-0.0.1.1-3860\" + window._cf_chl_opt.cOgUHash);cpo.onload = function() {history.replaceState(null, null, ogU);}}document.getElementsByTagName('head')[0].appendChild(cpo);}());</script></body></html>"
      ]
     },
     "execution_count": 14,
     "metadata": {},
     "output_type": "execute_result"
    }
   ],
   "source": [
    "soup = BeautifulSoup(response.content, 'html.parser')\n",
    "soup"
   ]
  },
  {
   "cell_type": "code",
   "execution_count": 15,
   "metadata": {},
   "outputs": [
    {
     "data": {
      "text/plain": [
       "[]"
      ]
     },
     "execution_count": 15,
     "metadata": {},
     "output_type": "execute_result"
    }
   ],
   "source": [
    "soup.select('#ContentPlaceHolder1_SetDetails .side-box-body')"
   ]
  },
  {
   "cell_type": "code",
   "execution_count": null,
   "metadata": {},
   "outputs": [],
   "source": []
  }
 ],
 "metadata": {
  "kernelspec": {
   "display_name": "base",
   "language": "python",
   "name": "python3"
  },
  "language_info": {
   "codemirror_mode": {
    "name": "ipython",
    "version": 3
   },
   "file_extension": ".py",
   "mimetype": "text/x-python",
   "name": "python",
   "nbconvert_exporter": "python",
   "pygments_lexer": "ipython3",
   "version": "3.10.14"
  }
 },
 "nbformat": 4,
 "nbformat_minor": 2
}
